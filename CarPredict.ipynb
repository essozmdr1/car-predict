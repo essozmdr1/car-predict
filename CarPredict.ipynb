{
 "cells": [
  {
   "cell_type": "code",
   "execution_count": 97,
   "id": "4b2a6e54",
   "metadata": {},
   "outputs": [],
   "source": [
    "import pandas as pd\n",
    "from sklearn.model_selection import train_test_split\n",
    "from sklearn.preprocessing import StandardScaler\n",
    "from sklearn.linear_model import LinearRegression,Lasso,Ridge,ElasticNet"
   ]
  },
  {
   "cell_type": "code",
   "execution_count": 98,
   "id": "ed666c24",
   "metadata": {},
   "outputs": [],
   "source": [
    "df=pd.read_csv(\"C:\\\\Users\\\\esrao\\\\OneDrive\\\\Masaüstü\\\\CarPredict\\\\Audi_A1_listings.csv\")"
   ]
  },
  {
   "cell_type": "code",
   "execution_count": 99,
   "id": "d7e6a8f8",
   "metadata": {},
   "outputs": [
    {
     "data": {
      "text/html": [
       "<div>\n",
       "<style scoped>\n",
       "    .dataframe tbody tr th:only-of-type {\n",
       "        vertical-align: middle;\n",
       "    }\n",
       "\n",
       "    .dataframe tbody tr th {\n",
       "        vertical-align: top;\n",
       "    }\n",
       "\n",
       "    .dataframe thead th {\n",
       "        text-align: right;\n",
       "    }\n",
       "</style>\n",
       "<table border=\"1\" class=\"dataframe\">\n",
       "  <thead>\n",
       "    <tr style=\"text-align: right;\">\n",
       "      <th></th>\n",
       "      <th>index</th>\n",
       "      <th>Year</th>\n",
       "      <th>Type</th>\n",
       "      <th>Mileage(miles)</th>\n",
       "      <th>Engine</th>\n",
       "      <th>PS</th>\n",
       "      <th>Transmission</th>\n",
       "      <th>Fuel</th>\n",
       "      <th>Number_of_Owners</th>\n",
       "      <th>Price(£)</th>\n",
       "      <th>href</th>\n",
       "      <th>PPY</th>\n",
       "      <th>MileageRank</th>\n",
       "      <th>PriceRank</th>\n",
       "      <th>PPYRank</th>\n",
       "      <th>Score</th>\n",
       "    </tr>\n",
       "  </thead>\n",
       "  <tbody>\n",
       "    <tr>\n",
       "      <th>0</th>\n",
       "      <td>0</td>\n",
       "      <td>2018.0</td>\n",
       "      <td>Hatchback</td>\n",
       "      <td>44000.0</td>\n",
       "      <td>1.6L</td>\n",
       "      <td>114.398422</td>\n",
       "      <td>Manual</td>\n",
       "      <td>Diesel</td>\n",
       "      <td>1</td>\n",
       "      <td>14995.0</td>\n",
       "      <td>https://www.autotrader.co.uk/car-details/20221...</td>\n",
       "      <td>2499.166667</td>\n",
       "      <td>215</td>\n",
       "      <td>163</td>\n",
       "      <td>340</td>\n",
       "      <td>718</td>\n",
       "    </tr>\n",
       "    <tr>\n",
       "      <th>1</th>\n",
       "      <td>4</td>\n",
       "      <td>2016.0</td>\n",
       "      <td>Hatchback</td>\n",
       "      <td>42596.0</td>\n",
       "      <td>1.0L</td>\n",
       "      <td>93.688363</td>\n",
       "      <td>Manual</td>\n",
       "      <td>Petrol</td>\n",
       "      <td>3</td>\n",
       "      <td>10755.0</td>\n",
       "      <td>https://www.autotrader.co.uk/car-details/20221...</td>\n",
       "      <td>2688.750000</td>\n",
       "      <td>222</td>\n",
       "      <td>330</td>\n",
       "      <td>276</td>\n",
       "      <td>828</td>\n",
       "    </tr>\n",
       "    <tr>\n",
       "      <th>2</th>\n",
       "      <td>7</td>\n",
       "      <td>2015.0</td>\n",
       "      <td>Hatchback</td>\n",
       "      <td>42700.0</td>\n",
       "      <td>1.4L</td>\n",
       "      <td>123.274162</td>\n",
       "      <td>Manual</td>\n",
       "      <td>Petrol</td>\n",
       "      <td>2</td>\n",
       "      <td>10799.0</td>\n",
       "      <td>https://www.autotrader.co.uk/car-details/20221...</td>\n",
       "      <td>3599.666667</td>\n",
       "      <td>221</td>\n",
       "      <td>327</td>\n",
       "      <td>94</td>\n",
       "      <td>642</td>\n",
       "    </tr>\n",
       "  </tbody>\n",
       "</table>\n",
       "</div>"
      ],
      "text/plain": [
       "   index    Year       Type  Mileage(miles) Engine          PS Transmission  \\\n",
       "0      0  2018.0  Hatchback         44000.0   1.6L  114.398422       Manual   \n",
       "1      4  2016.0  Hatchback         42596.0   1.0L   93.688363       Manual   \n",
       "2      7  2015.0  Hatchback         42700.0   1.4L  123.274162       Manual   \n",
       "\n",
       "     Fuel  Number_of_Owners  Price(£)  \\\n",
       "0  Diesel                 1   14995.0   \n",
       "1  Petrol                 3   10755.0   \n",
       "2  Petrol                 2   10799.0   \n",
       "\n",
       "                                                href          PPY  \\\n",
       "0  https://www.autotrader.co.uk/car-details/20221...  2499.166667   \n",
       "1  https://www.autotrader.co.uk/car-details/20221...  2688.750000   \n",
       "2  https://www.autotrader.co.uk/car-details/20221...  3599.666667   \n",
       "\n",
       "   MileageRank  PriceRank  PPYRank  Score  \n",
       "0          215        163      340    718  \n",
       "1          222        330      276    828  \n",
       "2          221        327       94    642  "
      ]
     },
     "execution_count": 99,
     "metadata": {},
     "output_type": "execute_result"
    }
   ],
   "source": [
    "df.head(3)"
   ]
  },
  {
   "cell_type": "code",
   "execution_count": 100,
   "id": "0e19c374",
   "metadata": {},
   "outputs": [],
   "source": [
    "df=df.drop(columns=[\"index\",\"href\",\"PriceRank\",\"MileageRank\",\"PPYRank\",\"Score\",\"PriceRank\"])"
   ]
  },
  {
   "cell_type": "code",
   "execution_count": 101,
   "id": "8ca86b8a",
   "metadata": {},
   "outputs": [
    {
     "data": {
      "text/html": [
       "<div>\n",
       "<style scoped>\n",
       "    .dataframe tbody tr th:only-of-type {\n",
       "        vertical-align: middle;\n",
       "    }\n",
       "\n",
       "    .dataframe tbody tr th {\n",
       "        vertical-align: top;\n",
       "    }\n",
       "\n",
       "    .dataframe thead th {\n",
       "        text-align: right;\n",
       "    }\n",
       "</style>\n",
       "<table border=\"1\" class=\"dataframe\">\n",
       "  <thead>\n",
       "    <tr style=\"text-align: right;\">\n",
       "      <th></th>\n",
       "      <th>Year</th>\n",
       "      <th>Type</th>\n",
       "      <th>Mileage(miles)</th>\n",
       "      <th>Engine</th>\n",
       "      <th>PS</th>\n",
       "      <th>Transmission</th>\n",
       "      <th>Fuel</th>\n",
       "      <th>Number_of_Owners</th>\n",
       "      <th>Price(£)</th>\n",
       "      <th>PPY</th>\n",
       "    </tr>\n",
       "  </thead>\n",
       "  <tbody>\n",
       "    <tr>\n",
       "      <th>0</th>\n",
       "      <td>2018.0</td>\n",
       "      <td>Hatchback</td>\n",
       "      <td>44000.0</td>\n",
       "      <td>1.6L</td>\n",
       "      <td>114.398422</td>\n",
       "      <td>Manual</td>\n",
       "      <td>Diesel</td>\n",
       "      <td>1</td>\n",
       "      <td>14995.0</td>\n",
       "      <td>2499.166667</td>\n",
       "    </tr>\n",
       "    <tr>\n",
       "      <th>1</th>\n",
       "      <td>2016.0</td>\n",
       "      <td>Hatchback</td>\n",
       "      <td>42596.0</td>\n",
       "      <td>1.0L</td>\n",
       "      <td>93.688363</td>\n",
       "      <td>Manual</td>\n",
       "      <td>Petrol</td>\n",
       "      <td>3</td>\n",
       "      <td>10755.0</td>\n",
       "      <td>2688.750000</td>\n",
       "    </tr>\n",
       "    <tr>\n",
       "      <th>2</th>\n",
       "      <td>2015.0</td>\n",
       "      <td>Hatchback</td>\n",
       "      <td>42700.0</td>\n",
       "      <td>1.4L</td>\n",
       "      <td>123.274162</td>\n",
       "      <td>Manual</td>\n",
       "      <td>Petrol</td>\n",
       "      <td>2</td>\n",
       "      <td>10799.0</td>\n",
       "      <td>3599.666667</td>\n",
       "    </tr>\n",
       "  </tbody>\n",
       "</table>\n",
       "</div>"
      ],
      "text/plain": [
       "     Year       Type  Mileage(miles) Engine          PS Transmission    Fuel  \\\n",
       "0  2018.0  Hatchback         44000.0   1.6L  114.398422       Manual  Diesel   \n",
       "1  2016.0  Hatchback         42596.0   1.0L   93.688363       Manual  Petrol   \n",
       "2  2015.0  Hatchback         42700.0   1.4L  123.274162       Manual  Petrol   \n",
       "\n",
       "   Number_of_Owners  Price(£)          PPY  \n",
       "0                 1   14995.0  2499.166667  \n",
       "1                 3   10755.0  2688.750000  \n",
       "2                 2   10799.0  3599.666667  "
      ]
     },
     "execution_count": 101,
     "metadata": {},
     "output_type": "execute_result"
    }
   ],
   "source": [
    "df.head(3)"
   ]
  },
  {
   "cell_type": "code",
   "execution_count": 102,
   "id": "d76884ab",
   "metadata": {},
   "outputs": [
    {
     "name": "stdout",
     "output_type": "stream",
     "text": [
      "<class 'pandas.core.frame.DataFrame'>\n",
      "RangeIndex: 471 entries, 0 to 470\n",
      "Data columns (total 10 columns):\n",
      " #   Column            Non-Null Count  Dtype  \n",
      "---  ------            --------------  -----  \n",
      " 0   Year              471 non-null    float64\n",
      " 1   Type              471 non-null    object \n",
      " 2   Mileage(miles)    471 non-null    float64\n",
      " 3   Engine            471 non-null    object \n",
      " 4   PS                471 non-null    float64\n",
      " 5   Transmission      471 non-null    object \n",
      " 6   Fuel              471 non-null    object \n",
      " 7   Number_of_Owners  471 non-null    int64  \n",
      " 8   Price(£)          471 non-null    float64\n",
      " 9   PPY               471 non-null    float64\n",
      "dtypes: float64(5), int64(1), object(4)\n",
      "memory usage: 36.9+ KB\n"
     ]
    }
   ],
   "source": [
    "df.info()\n"
   ]
  },
  {
   "cell_type": "code",
   "execution_count": 103,
   "id": "1ada3519",
   "metadata": {},
   "outputs": [],
   "source": [
    "# Regression Formula => y=ax+b"
   ]
  },
  {
   "cell_type": "code",
   "execution_count": 104,
   "id": "47dbdbfc",
   "metadata": {},
   "outputs": [],
   "source": [
    "df['Engine']=df['Engine'].str.replace(\"L\",\"\")"
   ]
  },
  {
   "cell_type": "code",
   "execution_count": 105,
   "id": "933d30e1",
   "metadata": {},
   "outputs": [],
   "source": [
    "df['Engine']=pd.to_numeric(df['Engine'])"
   ]
  },
  {
   "cell_type": "code",
   "execution_count": 106,
   "id": "903247c7",
   "metadata": {},
   "outputs": [
    {
     "name": "stdout",
     "output_type": "stream",
     "text": [
      "<class 'pandas.core.frame.DataFrame'>\n",
      "RangeIndex: 471 entries, 0 to 470\n",
      "Data columns (total 10 columns):\n",
      " #   Column            Non-Null Count  Dtype  \n",
      "---  ------            --------------  -----  \n",
      " 0   Year              471 non-null    float64\n",
      " 1   Type              471 non-null    object \n",
      " 2   Mileage(miles)    471 non-null    float64\n",
      " 3   Engine            471 non-null    float64\n",
      " 4   PS                471 non-null    float64\n",
      " 5   Transmission      471 non-null    object \n",
      " 6   Fuel              471 non-null    object \n",
      " 7   Number_of_Owners  471 non-null    int64  \n",
      " 8   Price(£)          471 non-null    float64\n",
      " 9   PPY               471 non-null    float64\n",
      "dtypes: float64(6), int64(1), object(3)\n",
      "memory usage: 36.9+ KB\n"
     ]
    }
   ],
   "source": [
    "df.info()"
   ]
  },
  {
   "cell_type": "code",
   "execution_count": 107,
   "id": "31814c42",
   "metadata": {},
   "outputs": [
    {
     "data": {
      "text/html": [
       "<div>\n",
       "<style scoped>\n",
       "    .dataframe tbody tr th:only-of-type {\n",
       "        vertical-align: middle;\n",
       "    }\n",
       "\n",
       "    .dataframe tbody tr th {\n",
       "        vertical-align: top;\n",
       "    }\n",
       "\n",
       "    .dataframe thead th {\n",
       "        text-align: right;\n",
       "    }\n",
       "</style>\n",
       "<table border=\"1\" class=\"dataframe\">\n",
       "  <thead>\n",
       "    <tr style=\"text-align: right;\">\n",
       "      <th></th>\n",
       "      <th>Year</th>\n",
       "      <th>Type</th>\n",
       "      <th>Mileage(miles)</th>\n",
       "      <th>Engine</th>\n",
       "      <th>PS</th>\n",
       "      <th>Transmission</th>\n",
       "      <th>Fuel</th>\n",
       "      <th>Number_of_Owners</th>\n",
       "      <th>Price(£)</th>\n",
       "      <th>PPY</th>\n",
       "    </tr>\n",
       "  </thead>\n",
       "  <tbody>\n",
       "    <tr>\n",
       "      <th>0</th>\n",
       "      <td>2018.0</td>\n",
       "      <td>Hatchback</td>\n",
       "      <td>44000.0</td>\n",
       "      <td>1.6</td>\n",
       "      <td>114.398422</td>\n",
       "      <td>Manual</td>\n",
       "      <td>Diesel</td>\n",
       "      <td>1</td>\n",
       "      <td>14995.0</td>\n",
       "      <td>2499.166667</td>\n",
       "    </tr>\n",
       "    <tr>\n",
       "      <th>1</th>\n",
       "      <td>2016.0</td>\n",
       "      <td>Hatchback</td>\n",
       "      <td>42596.0</td>\n",
       "      <td>1.0</td>\n",
       "      <td>93.688363</td>\n",
       "      <td>Manual</td>\n",
       "      <td>Petrol</td>\n",
       "      <td>3</td>\n",
       "      <td>10755.0</td>\n",
       "      <td>2688.750000</td>\n",
       "    </tr>\n",
       "    <tr>\n",
       "      <th>2</th>\n",
       "      <td>2015.0</td>\n",
       "      <td>Hatchback</td>\n",
       "      <td>42700.0</td>\n",
       "      <td>1.4</td>\n",
       "      <td>123.274162</td>\n",
       "      <td>Manual</td>\n",
       "      <td>Petrol</td>\n",
       "      <td>2</td>\n",
       "      <td>10799.0</td>\n",
       "      <td>3599.666667</td>\n",
       "    </tr>\n",
       "    <tr>\n",
       "      <th>3</th>\n",
       "      <td>2014.0</td>\n",
       "      <td>Hatchback</td>\n",
       "      <td>86000.0</td>\n",
       "      <td>1.6</td>\n",
       "      <td>103.550296</td>\n",
       "      <td>Manual</td>\n",
       "      <td>Diesel</td>\n",
       "      <td>3</td>\n",
       "      <td>7490.0</td>\n",
       "      <td>3745.000000</td>\n",
       "    </tr>\n",
       "    <tr>\n",
       "      <th>4</th>\n",
       "      <td>2014.0</td>\n",
       "      <td>Hatchback</td>\n",
       "      <td>104310.0</td>\n",
       "      <td>1.6</td>\n",
       "      <td>103.550296</td>\n",
       "      <td>Manual</td>\n",
       "      <td>Diesel</td>\n",
       "      <td>3</td>\n",
       "      <td>7400.0</td>\n",
       "      <td>3700.000000</td>\n",
       "    </tr>\n",
       "  </tbody>\n",
       "</table>\n",
       "</div>"
      ],
      "text/plain": [
       "     Year       Type  Mileage(miles)  Engine          PS Transmission    Fuel  \\\n",
       "0  2018.0  Hatchback         44000.0     1.6  114.398422       Manual  Diesel   \n",
       "1  2016.0  Hatchback         42596.0     1.0   93.688363       Manual  Petrol   \n",
       "2  2015.0  Hatchback         42700.0     1.4  123.274162       Manual  Petrol   \n",
       "3  2014.0  Hatchback         86000.0     1.6  103.550296       Manual  Diesel   \n",
       "4  2014.0  Hatchback        104310.0     1.6  103.550296       Manual  Diesel   \n",
       "\n",
       "   Number_of_Owners  Price(£)          PPY  \n",
       "0                 1   14995.0  2499.166667  \n",
       "1                 3   10755.0  2688.750000  \n",
       "2                 2   10799.0  3599.666667  \n",
       "3                 3    7490.0  3745.000000  \n",
       "4                 3    7400.0  3700.000000  "
      ]
     },
     "execution_count": 107,
     "metadata": {},
     "output_type": "execute_result"
    }
   ],
   "source": [
    "df.head()"
   ]
  },
  {
   "cell_type": "code",
   "execution_count": 108,
   "id": "469e667c",
   "metadata": {},
   "outputs": [],
   "source": [
    "df=pd.get_dummies(df,columns=[\"Type\",\"Transmission\",\"Fuel\"])"
   ]
  },
  {
   "cell_type": "code",
   "execution_count": 109,
   "id": "d0db943c",
   "metadata": {},
   "outputs": [
    {
     "data": {
      "text/html": [
       "<div>\n",
       "<style scoped>\n",
       "    .dataframe tbody tr th:only-of-type {\n",
       "        vertical-align: middle;\n",
       "    }\n",
       "\n",
       "    .dataframe tbody tr th {\n",
       "        vertical-align: top;\n",
       "    }\n",
       "\n",
       "    .dataframe thead th {\n",
       "        text-align: right;\n",
       "    }\n",
       "</style>\n",
       "<table border=\"1\" class=\"dataframe\">\n",
       "  <thead>\n",
       "    <tr style=\"text-align: right;\">\n",
       "      <th></th>\n",
       "      <th>Year</th>\n",
       "      <th>Mileage(miles)</th>\n",
       "      <th>Engine</th>\n",
       "      <th>PS</th>\n",
       "      <th>Number_of_Owners</th>\n",
       "      <th>Price(£)</th>\n",
       "      <th>PPY</th>\n",
       "      <th>Type_Hatchback</th>\n",
       "      <th>Transmission_Automatic</th>\n",
       "      <th>Transmission_Manual</th>\n",
       "      <th>Fuel_Diesel</th>\n",
       "      <th>Fuel_Petrol</th>\n",
       "    </tr>\n",
       "  </thead>\n",
       "  <tbody>\n",
       "    <tr>\n",
       "      <th>0</th>\n",
       "      <td>2018.0</td>\n",
       "      <td>44000.0</td>\n",
       "      <td>1.6</td>\n",
       "      <td>114.398422</td>\n",
       "      <td>1</td>\n",
       "      <td>14995.0</td>\n",
       "      <td>2499.166667</td>\n",
       "      <td>True</td>\n",
       "      <td>False</td>\n",
       "      <td>True</td>\n",
       "      <td>True</td>\n",
       "      <td>False</td>\n",
       "    </tr>\n",
       "    <tr>\n",
       "      <th>1</th>\n",
       "      <td>2016.0</td>\n",
       "      <td>42596.0</td>\n",
       "      <td>1.0</td>\n",
       "      <td>93.688363</td>\n",
       "      <td>3</td>\n",
       "      <td>10755.0</td>\n",
       "      <td>2688.750000</td>\n",
       "      <td>True</td>\n",
       "      <td>False</td>\n",
       "      <td>True</td>\n",
       "      <td>False</td>\n",
       "      <td>True</td>\n",
       "    </tr>\n",
       "    <tr>\n",
       "      <th>2</th>\n",
       "      <td>2015.0</td>\n",
       "      <td>42700.0</td>\n",
       "      <td>1.4</td>\n",
       "      <td>123.274162</td>\n",
       "      <td>2</td>\n",
       "      <td>10799.0</td>\n",
       "      <td>3599.666667</td>\n",
       "      <td>True</td>\n",
       "      <td>False</td>\n",
       "      <td>True</td>\n",
       "      <td>False</td>\n",
       "      <td>True</td>\n",
       "    </tr>\n",
       "    <tr>\n",
       "      <th>3</th>\n",
       "      <td>2014.0</td>\n",
       "      <td>86000.0</td>\n",
       "      <td>1.6</td>\n",
       "      <td>103.550296</td>\n",
       "      <td>3</td>\n",
       "      <td>7490.0</td>\n",
       "      <td>3745.000000</td>\n",
       "      <td>True</td>\n",
       "      <td>False</td>\n",
       "      <td>True</td>\n",
       "      <td>True</td>\n",
       "      <td>False</td>\n",
       "    </tr>\n",
       "    <tr>\n",
       "      <th>4</th>\n",
       "      <td>2014.0</td>\n",
       "      <td>104310.0</td>\n",
       "      <td>1.6</td>\n",
       "      <td>103.550296</td>\n",
       "      <td>3</td>\n",
       "      <td>7400.0</td>\n",
       "      <td>3700.000000</td>\n",
       "      <td>True</td>\n",
       "      <td>False</td>\n",
       "      <td>True</td>\n",
       "      <td>True</td>\n",
       "      <td>False</td>\n",
       "    </tr>\n",
       "  </tbody>\n",
       "</table>\n",
       "</div>"
      ],
      "text/plain": [
       "     Year  Mileage(miles)  Engine          PS  Number_of_Owners  Price(£)  \\\n",
       "0  2018.0         44000.0     1.6  114.398422                 1   14995.0   \n",
       "1  2016.0         42596.0     1.0   93.688363                 3   10755.0   \n",
       "2  2015.0         42700.0     1.4  123.274162                 2   10799.0   \n",
       "3  2014.0         86000.0     1.6  103.550296                 3    7490.0   \n",
       "4  2014.0        104310.0     1.6  103.550296                 3    7400.0   \n",
       "\n",
       "           PPY  Type_Hatchback  Transmission_Automatic  Transmission_Manual  \\\n",
       "0  2499.166667            True                   False                 True   \n",
       "1  2688.750000            True                   False                 True   \n",
       "2  3599.666667            True                   False                 True   \n",
       "3  3745.000000            True                   False                 True   \n",
       "4  3700.000000            True                   False                 True   \n",
       "\n",
       "   Fuel_Diesel  Fuel_Petrol  \n",
       "0         True        False  \n",
       "1        False         True  \n",
       "2        False         True  \n",
       "3         True        False  \n",
       "4         True        False  "
      ]
     },
     "execution_count": 109,
     "metadata": {},
     "output_type": "execute_result"
    }
   ],
   "source": [
    "df.head()"
   ]
  },
  {
   "cell_type": "code",
   "execution_count": 110,
   "id": "02794432",
   "metadata": {},
   "outputs": [
    {
     "name": "stdout",
     "output_type": "stream",
     "text": [
      "Year                      0\n",
      "Mileage(miles)            0\n",
      "Engine                    0\n",
      "PS                        0\n",
      "Number_of_Owners          0\n",
      "Price(£)                  0\n",
      "PPY                       0\n",
      "Type_Hatchback            0\n",
      "Transmission_Automatic    0\n",
      "Transmission_Manual       0\n",
      "Fuel_Diesel               0\n",
      "Fuel_Petrol               0\n",
      "dtype: int64\n"
     ]
    }
   ],
   "source": [
    "print(df.isnull().sum())"
   ]
  },
  {
   "cell_type": "code",
   "execution_count": 111,
   "id": "3523a419",
   "metadata": {},
   "outputs": [],
   "source": [
    "# Price ile diğer değişkenlerin ilişkisini anlamak için korelasyon matrisi oluşturmak "
   ]
  },
  {
   "cell_type": "code",
   "execution_count": 112,
   "id": "fb404d22",
   "metadata": {},
   "outputs": [],
   "source": [
    "import seaborn as sns\n",
    "import matplotlib.pyplot as plt"
   ]
  },
  {
   "cell_type": "code",
   "execution_count": 113,
   "id": "9305a26a",
   "metadata": {},
   "outputs": [
    {
     "data": {
      "image/png": "[encoded data removed]",
      "text/plain": [
       "<Figure size 1000x600 with 2 Axes>"
      ]
     },
     "metadata": {},
     "output_type": "display_data"
    }
   ],
   "source": [
    "# Korelasyon matrisini hesaplama\n",
    "correlation_matrix = df[['Year', 'Mileage(miles)', 'PS', 'Price(£)']].corr()\n",
    "\n",
    "# Korelasyon matrisini görselleştirme\n",
    "plt.figure(figsize=(10, 6))\n",
    "sns.heatmap(correlation_matrix, annot=True, cmap=\"coolwarm\", fmt=\".2f\")\n",
    "plt.title(\"Korelasyon Matrisi\")\n",
    "plt.show()"
   ]
  },
  {
   "cell_type": "code",
   "execution_count": 114,
   "id": "6253ac37",
   "metadata": {},
   "outputs": [
    {
     "data": {
      "image/png": "[encoded data removed]",
      "text/plain": [
       "<Figure size 1000x600 with 1 Axes>"
      ]
     },
     "metadata": {},
     "output_type": "display_data"
    }
   ],
   "source": [
    "# Price dağılımını incelemek için histogram ve KDE grafiği\n",
    "plt.figure(figsize=(10, 6))\n",
    "sns.histplot(df['Price(£)'], bins=30, kde=True)\n",
    "plt.xlabel(\"Price (£)\")\n",
    "plt.ylabel(\"Frequency\")\n",
    "plt.title(\"Price Değişkeninin Dağılımı\")\n",
    "plt.show()"
   ]
  },
  {
   "cell_type": "code",
   "execution_count": 115,
   "id": "bd72c996",
   "metadata": {},
   "outputs": [],
   "source": [
    "y=df[['Price(£)']]\n",
    "x=df.drop(\"Price(£)\",axis=1)"
   ]
  },
  {
   "cell_type": "code",
   "execution_count": 116,
   "id": "743dc47f",
   "metadata": {},
   "outputs": [],
   "source": [
    "x_train,x_test,y_train,y_test=train_test_split(x,y,train_size=0.70,random_state=12)"
   ]
  },
  {
   "cell_type": "code",
   "execution_count": 117,
   "id": "d1a91c86",
   "metadata": {},
   "outputs": [
    {
     "data": {
      "text/plain": [
       "0.9573837666604922"
      ]
     },
     "execution_count": 117,
     "metadata": {},
     "output_type": "execute_result"
    }
   ],
   "source": [
    "reg=LinearRegression()\n",
    "model=reg.fit(x_train,y_train)\n",
    "model.score(x_test,y_test)"
   ]
  },
  {
   "cell_type": "code",
   "execution_count": 118,
   "id": "d5865692",
   "metadata": {},
   "outputs": [
    {
     "name": "stderr",
     "output_type": "stream",
     "text": [
      "C:\\Users\\esrao\\anaconda3\\Lib\\site-packages\\sklearn\\base.py:464: UserWarning: X does not have valid feature names, but LinearRegression was fitted with feature names\n",
      "  warnings.warn(\n"
     ]
    },
    {
     "data": {
      "text/plain": [
       "array([[-219976.94220876]])"
      ]
     },
     "execution_count": 118,
     "metadata": {},
     "output_type": "execute_result"
    }
   ],
   "source": [
    "model.predict([[2017,50000,1.6,120,1,2500,220,300,800,0,1]])"
   ]
  },
  {
   "cell_type": "code",
   "execution_count": null,
   "id": "ff21d4d5",
   "metadata": {},
   "outputs": [],
   "source": []
  }
 ],
 "metadata": {
  "kernelspec": {
   "display_name": "Python 3 (ipykernel)",
   "language": "python",
   "name": "python3"
  },
  "language_info": {
   "codemirror_mode": {
    "name": "ipython",
    "version": 3
   },
   "file_extension": ".py",
   "mimetype": "text/x-python",
   "name": "python",
   "nbconvert_exporter": "python",
   "pygments_lexer": "ipython3",
   "version": "3.11.5"
  }
 },
 "nbformat": 4,
 "nbformat_minor": 5
}
